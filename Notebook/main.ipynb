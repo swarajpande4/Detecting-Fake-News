{
 "cells": [
  {
   "cell_type": "markdown",
   "metadata": {},
   "source": [
    "# Predicting Fake News\n",
    "Fake news is false or misleading information presented as news. It often has the aim of damaging the reputation of a person or entity, or making money through advertising revenue. Fake news always reduces the impact of real news by competing with it, and sharing the likeness. <br>\n",
    "\n",
    "**About the dataset:** <br>\n",
    "This data set consists of 44000 fake and real news. Our goal is to train our model to accurately predict whether a particular piece of news is real or fake. Fake and real news data are given in two separate datasets, which each dataset consisting of approximately 22000 articles. The dataset can be found [here.]() "
   ]
  },
  {
   "cell_type": "markdown",
   "metadata": {},
   "source": [
    "## Table of Contents\n",
    "1. [Importing modules and the dataset](#1)\n",
    "2. [Data cleaning / Prepping](#2)\n",
    "3. [Some Exploratory Data Analysis](#3)\n",
    "4. [Feature extraction](#4)\n",
    "5. [Model training](#5)\n",
    "6. [Conclusion and saving the Pipeline](#6)"
   ]
  },
  {
   "cell_type": "markdown",
   "metadata": {
    "execution": {
     "iopub.execute_input": "2021-05-26T13:50:15.672221Z",
     "iopub.status.busy": "2021-05-26T13:50:15.671923Z",
     "iopub.status.idle": "2021-05-26T13:50:15.675577Z",
     "shell.execute_reply": "2021-05-26T13:50:15.674957Z",
     "shell.execute_reply.started": "2021-05-26T13:50:15.672182Z"
    }
   },
   "source": [
    "<div id='1'></div>\n",
    "\n",
    "<br>\n",
    "\n",
    "### **1. Importing modules and the dataset**"
   ]
  },
  {
   "cell_type": "code",
   "execution_count": 1,
   "metadata": {
    "execution": {
     "iopub.execute_input": "2021-09-05T11:03:36.863605Z",
     "iopub.status.busy": "2021-09-05T11:03:36.858293Z",
     "iopub.status.idle": "2021-09-05T11:03:55.006353Z",
     "shell.execute_reply": "2021-09-05T11:03:55.003498Z",
     "shell.execute_reply.started": "2021-09-05T11:03:36.863309Z"
    },
    "tags": []
   },
   "outputs": [],
   "source": [
    "# Set up\n",
    "import numpy as np\n",
    "import pandas as pd\n",
    "import pickle\n",
    "\n",
    "# Visualizations\n",
    "import matplotlib.pyplot as plt\n",
    "import seaborn as sns\n",
    "from sklearn.metrics import plot_confusion_matrix\n",
    "\n",
    "# ML Toolkits\n",
    "from sklearn.model_selection import train_test_split\n",
    "from sklearn.feature_extraction.text import TfidfVectorizer\n",
    "from sklearn.linear_model import LogisticRegression\n",
    "from sklearn.neighbors import KNeighborsClassifier\n",
    "from sklearn.svm import LinearSVC\n",
    "from sklearn.pipeline import Pipeline \n",
    "from sklearn.metrics import accuracy_score, f1_score, confusion_matrix"
   ]
  },
  {
   "cell_type": "markdown",
   "metadata": {},
   "source": [
    "<br>\n",
    "Loading the dataset"
   ]
  },
  {
   "cell_type": "code",
   "execution_count": 2,
   "metadata": {
    "execution": {
     "iopub.execute_input": "2021-09-05T11:04:05.666120Z",
     "iopub.status.busy": "2021-09-05T11:04:05.664628Z",
     "iopub.status.idle": "2021-09-05T11:04:07.065607Z",
     "shell.execute_reply": "2021-09-05T11:04:07.065168Z",
     "shell.execute_reply.started": "2021-09-05T11:04:05.665978Z"
    },
    "tags": []
   },
   "outputs": [],
   "source": [
    "fake = pd.read_csv('Dataset/Fake.csv')\n",
    "real = pd.read_csv('Dataset/True.csv')"
   ]
  },
  {
   "cell_type": "code",
   "execution_count": 3,
   "metadata": {
    "execution": {
     "iopub.execute_input": "2021-09-05T11:04:07.865631Z",
     "iopub.status.busy": "2021-09-05T11:04:07.865406Z",
     "iopub.status.idle": "2021-09-05T11:04:08.111141Z",
     "shell.execute_reply": "2021-09-05T11:04:08.107640Z",
     "shell.execute_reply.started": "2021-09-05T11:04:07.865608Z"
    },
    "tags": []
   },
   "outputs": [
    {
     "data": {
      "text/html": [
       "<div>\n",
       "<style scoped>\n",
       "    .dataframe tbody tr th:only-of-type {\n",
       "        vertical-align: middle;\n",
       "    }\n",
       "\n",
       "    .dataframe tbody tr th {\n",
       "        vertical-align: top;\n",
       "    }\n",
       "\n",
       "    .dataframe thead th {\n",
       "        text-align: right;\n",
       "    }\n",
       "</style>\n",
       "<table border=\"1\" class=\"dataframe\">\n",
       "  <thead>\n",
       "    <tr style=\"text-align: right;\">\n",
       "      <th></th>\n",
       "      <th>title</th>\n",
       "      <th>text</th>\n",
       "      <th>subject</th>\n",
       "      <th>date</th>\n",
       "    </tr>\n",
       "  </thead>\n",
       "  <tbody>\n",
       "    <tr>\n",
       "      <th>0</th>\n",
       "      <td>Donald Trump Sends Out Embarrassing New Year’...</td>\n",
       "      <td>Donald Trump just couldn t wish all Americans ...</td>\n",
       "      <td>News</td>\n",
       "      <td>December 31, 2017</td>\n",
       "    </tr>\n",
       "    <tr>\n",
       "      <th>1</th>\n",
       "      <td>Drunk Bragging Trump Staffer Started Russian ...</td>\n",
       "      <td>House Intelligence Committee Chairman Devin Nu...</td>\n",
       "      <td>News</td>\n",
       "      <td>December 31, 2017</td>\n",
       "    </tr>\n",
       "    <tr>\n",
       "      <th>2</th>\n",
       "      <td>Sheriff David Clarke Becomes An Internet Joke...</td>\n",
       "      <td>On Friday, it was revealed that former Milwauk...</td>\n",
       "      <td>News</td>\n",
       "      <td>December 30, 2017</td>\n",
       "    </tr>\n",
       "    <tr>\n",
       "      <th>3</th>\n",
       "      <td>Trump Is So Obsessed He Even Has Obama’s Name...</td>\n",
       "      <td>On Christmas day, Donald Trump announced that ...</td>\n",
       "      <td>News</td>\n",
       "      <td>December 29, 2017</td>\n",
       "    </tr>\n",
       "    <tr>\n",
       "      <th>4</th>\n",
       "      <td>Pope Francis Just Called Out Donald Trump Dur...</td>\n",
       "      <td>Pope Francis used his annual Christmas Day mes...</td>\n",
       "      <td>News</td>\n",
       "      <td>December 25, 2017</td>\n",
       "    </tr>\n",
       "  </tbody>\n",
       "</table>\n",
       "</div>"
      ],
      "text/plain": [
       "                                               title  \\\n",
       "0   Donald Trump Sends Out Embarrassing New Year’...   \n",
       "1   Drunk Bragging Trump Staffer Started Russian ...   \n",
       "2   Sheriff David Clarke Becomes An Internet Joke...   \n",
       "3   Trump Is So Obsessed He Even Has Obama’s Name...   \n",
       "4   Pope Francis Just Called Out Donald Trump Dur...   \n",
       "\n",
       "                                                text subject  \\\n",
       "0  Donald Trump just couldn t wish all Americans ...    News   \n",
       "1  House Intelligence Committee Chairman Devin Nu...    News   \n",
       "2  On Friday, it was revealed that former Milwauk...    News   \n",
       "3  On Christmas day, Donald Trump announced that ...    News   \n",
       "4  Pope Francis used his annual Christmas Day mes...    News   \n",
       "\n",
       "                date  \n",
       "0  December 31, 2017  \n",
       "1  December 31, 2017  \n",
       "2  December 30, 2017  \n",
       "3  December 29, 2017  \n",
       "4  December 25, 2017  "
      ]
     },
     "metadata": {},
     "output_type": "display_data"
    }
   ],
   "source": [
    "display(fake.head())"
   ]
  },
  {
   "cell_type": "code",
   "execution_count": 4,
   "metadata": {
    "execution": {
     "iopub.execute_input": "2021-09-05T11:04:08.968861Z",
     "iopub.status.busy": "2021-09-05T11:04:08.966091Z",
     "iopub.status.idle": "2021-09-05T11:04:09.008254Z",
     "shell.execute_reply": "2021-09-05T11:04:09.002501Z",
     "shell.execute_reply.started": "2021-09-05T11:04:08.968779Z"
    },
    "tags": []
   },
   "outputs": [
    {
     "data": {
      "text/html": [
       "<div>\n",
       "<style scoped>\n",
       "    .dataframe tbody tr th:only-of-type {\n",
       "        vertical-align: middle;\n",
       "    }\n",
       "\n",
       "    .dataframe tbody tr th {\n",
       "        vertical-align: top;\n",
       "    }\n",
       "\n",
       "    .dataframe thead th {\n",
       "        text-align: right;\n",
       "    }\n",
       "</style>\n",
       "<table border=\"1\" class=\"dataframe\">\n",
       "  <thead>\n",
       "    <tr style=\"text-align: right;\">\n",
       "      <th></th>\n",
       "      <th>title</th>\n",
       "      <th>text</th>\n",
       "      <th>subject</th>\n",
       "      <th>date</th>\n",
       "    </tr>\n",
       "  </thead>\n",
       "  <tbody>\n",
       "    <tr>\n",
       "      <th>0</th>\n",
       "      <td>As U.S. budget fight looms, Republicans flip t...</td>\n",
       "      <td>WASHINGTON (Reuters) - The head of a conservat...</td>\n",
       "      <td>politicsNews</td>\n",
       "      <td>December 31, 2017</td>\n",
       "    </tr>\n",
       "    <tr>\n",
       "      <th>1</th>\n",
       "      <td>U.S. military to accept transgender recruits o...</td>\n",
       "      <td>WASHINGTON (Reuters) - Transgender people will...</td>\n",
       "      <td>politicsNews</td>\n",
       "      <td>December 29, 2017</td>\n",
       "    </tr>\n",
       "    <tr>\n",
       "      <th>2</th>\n",
       "      <td>Senior U.S. Republican senator: 'Let Mr. Muell...</td>\n",
       "      <td>WASHINGTON (Reuters) - The special counsel inv...</td>\n",
       "      <td>politicsNews</td>\n",
       "      <td>December 31, 2017</td>\n",
       "    </tr>\n",
       "    <tr>\n",
       "      <th>3</th>\n",
       "      <td>FBI Russia probe helped by Australian diplomat...</td>\n",
       "      <td>WASHINGTON (Reuters) - Trump campaign adviser ...</td>\n",
       "      <td>politicsNews</td>\n",
       "      <td>December 30, 2017</td>\n",
       "    </tr>\n",
       "    <tr>\n",
       "      <th>4</th>\n",
       "      <td>Trump wants Postal Service to charge 'much mor...</td>\n",
       "      <td>SEATTLE/WASHINGTON (Reuters) - President Donal...</td>\n",
       "      <td>politicsNews</td>\n",
       "      <td>December 29, 2017</td>\n",
       "    </tr>\n",
       "  </tbody>\n",
       "</table>\n",
       "</div>"
      ],
      "text/plain": [
       "                                               title  \\\n",
       "0  As U.S. budget fight looms, Republicans flip t...   \n",
       "1  U.S. military to accept transgender recruits o...   \n",
       "2  Senior U.S. Republican senator: 'Let Mr. Muell...   \n",
       "3  FBI Russia probe helped by Australian diplomat...   \n",
       "4  Trump wants Postal Service to charge 'much mor...   \n",
       "\n",
       "                                                text       subject  \\\n",
       "0  WASHINGTON (Reuters) - The head of a conservat...  politicsNews   \n",
       "1  WASHINGTON (Reuters) - Transgender people will...  politicsNews   \n",
       "2  WASHINGTON (Reuters) - The special counsel inv...  politicsNews   \n",
       "3  WASHINGTON (Reuters) - Trump campaign adviser ...  politicsNews   \n",
       "4  SEATTLE/WASHINGTON (Reuters) - President Donal...  politicsNews   \n",
       "\n",
       "                 date  \n",
       "0  December 31, 2017   \n",
       "1  December 29, 2017   \n",
       "2  December 31, 2017   \n",
       "3  December 30, 2017   \n",
       "4  December 29, 2017   "
      ]
     },
     "metadata": {},
     "output_type": "display_data"
    }
   ],
   "source": [
    "display(real.head())"
   ]
  },
  {
   "cell_type": "code",
   "execution_count": 5,
   "metadata": {
    "execution": {
     "iopub.execute_input": "2021-09-05T11:04:09.575413Z",
     "iopub.status.busy": "2021-09-05T11:04:09.574529Z",
     "iopub.status.idle": "2021-09-05T11:04:09.774727Z",
     "shell.execute_reply": "2021-09-05T11:04:09.771569Z",
     "shell.execute_reply.started": "2021-09-05T11:04:09.575303Z"
    },
    "tags": []
   },
   "outputs": [
    {
     "name": "stdout",
     "output_type": "stream",
     "text": [
      "<class 'pandas.core.frame.DataFrame'>\n",
      "RangeIndex: 23481 entries, 0 to 23480\n",
      "Data columns (total 4 columns):\n",
      " #   Column   Non-Null Count  Dtype \n",
      "---  ------   --------------  ----- \n",
      " 0   title    23481 non-null  object\n",
      " 1   text     23481 non-null  object\n",
      " 2   subject  23481 non-null  object\n",
      " 3   date     23481 non-null  object\n",
      "dtypes: object(4)\n",
      "memory usage: 733.9+ KB\n"
     ]
    },
    {
     "data": {
      "text/plain": [
       "None"
      ]
     },
     "metadata": {},
     "output_type": "display_data"
    },
    {
     "name": "stdout",
     "output_type": "stream",
     "text": [
      "\n",
      "\n",
      "<class 'pandas.core.frame.DataFrame'>\n",
      "RangeIndex: 21417 entries, 0 to 21416\n",
      "Data columns (total 4 columns):\n",
      " #   Column   Non-Null Count  Dtype \n",
      "---  ------   --------------  ----- \n",
      " 0   title    21417 non-null  object\n",
      " 1   text     21417 non-null  object\n",
      " 2   subject  21417 non-null  object\n",
      " 3   date     21417 non-null  object\n",
      "dtypes: object(4)\n",
      "memory usage: 669.4+ KB\n"
     ]
    },
    {
     "data": {
      "text/plain": [
       "None"
      ]
     },
     "metadata": {},
     "output_type": "display_data"
    }
   ],
   "source": [
    "display(fake.info())\n",
    "print('\\n')\n",
    "display(real.info())"
   ]
  },
  {
   "cell_type": "markdown",
   "metadata": {
    "tags": []
   },
   "source": [
    "<div id='2'></div>\n",
    "\n",
    "<br>\n",
    "\n",
    "### **2. Data Cleaning / Prepping**"
   ]
  },
  {
   "cell_type": "markdown",
   "metadata": {
    "tags": []
   },
   "source": [
    "<br>\n",
    "Adding 'fake' and 'real' label columns in the respective datasets."
   ]
  },
  {
   "cell_type": "code",
   "execution_count": 6,
   "metadata": {
    "execution": {
     "iopub.execute_input": "2021-09-05T11:04:11.108086Z",
     "iopub.status.busy": "2021-09-05T11:04:11.107734Z",
     "iopub.status.idle": "2021-09-05T11:04:11.118404Z",
     "shell.execute_reply": "2021-09-05T11:04:11.117364Z",
     "shell.execute_reply.started": "2021-09-05T11:04:11.108047Z"
    },
    "tags": []
   },
   "outputs": [],
   "source": [
    "fake['label'] = 1    # Fake = 1\n",
    "real['label'] = 0    # Real = 0"
   ]
  },
  {
   "cell_type": "markdown",
   "metadata": {},
   "source": [
    "<br>\n",
    "Concatenating fake and real datasets."
   ]
  },
  {
   "cell_type": "code",
   "execution_count": 7,
   "metadata": {
    "execution": {
     "iopub.execute_input": "2021-09-05T11:04:11.964300Z",
     "iopub.status.busy": "2021-09-05T11:04:11.963141Z",
     "iopub.status.idle": "2021-09-05T11:04:11.980774Z",
     "shell.execute_reply": "2021-09-05T11:04:11.979979Z",
     "shell.execute_reply.started": "2021-09-05T11:04:11.964101Z"
    },
    "tags": []
   },
   "outputs": [],
   "source": [
    "data = pd.concat([fake, real], axis = 0)"
   ]
  },
  {
   "cell_type": "markdown",
   "metadata": {},
   "source": [
    "<br>\n",
    "Concatenating 'title' and 'text columns together and dropping the title column."
   ]
  },
  {
   "cell_type": "code",
   "execution_count": 8,
   "metadata": {
    "execution": {
     "iopub.execute_input": "2021-09-05T11:04:12.728781Z",
     "iopub.status.busy": "2021-09-05T11:04:12.728505Z",
     "iopub.status.idle": "2021-09-05T11:04:13.177598Z",
     "shell.execute_reply": "2021-09-05T11:04:13.176951Z",
     "shell.execute_reply.started": "2021-09-05T11:04:12.728741Z"
    },
    "tags": []
   },
   "outputs": [
    {
     "data": {
      "text/html": [
       "<div>\n",
       "<style scoped>\n",
       "    .dataframe tbody tr th:only-of-type {\n",
       "        vertical-align: middle;\n",
       "    }\n",
       "\n",
       "    .dataframe tbody tr th {\n",
       "        vertical-align: top;\n",
       "    }\n",
       "\n",
       "    .dataframe thead th {\n",
       "        text-align: right;\n",
       "    }\n",
       "</style>\n",
       "<table border=\"1\" class=\"dataframe\">\n",
       "  <thead>\n",
       "    <tr style=\"text-align: right;\">\n",
       "      <th></th>\n",
       "      <th>text</th>\n",
       "      <th>subject</th>\n",
       "      <th>date</th>\n",
       "      <th>label</th>\n",
       "    </tr>\n",
       "  </thead>\n",
       "  <tbody>\n",
       "    <tr>\n",
       "      <th>0</th>\n",
       "      <td>Donald Trump Sends Out Embarrassing New Year’...</td>\n",
       "      <td>News</td>\n",
       "      <td>December 31, 2017</td>\n",
       "      <td>1</td>\n",
       "    </tr>\n",
       "    <tr>\n",
       "      <th>1</th>\n",
       "      <td>Drunk Bragging Trump Staffer Started Russian ...</td>\n",
       "      <td>News</td>\n",
       "      <td>December 31, 2017</td>\n",
       "      <td>1</td>\n",
       "    </tr>\n",
       "    <tr>\n",
       "      <th>2</th>\n",
       "      <td>Sheriff David Clarke Becomes An Internet Joke...</td>\n",
       "      <td>News</td>\n",
       "      <td>December 30, 2017</td>\n",
       "      <td>1</td>\n",
       "    </tr>\n",
       "    <tr>\n",
       "      <th>3</th>\n",
       "      <td>Trump Is So Obsessed He Even Has Obama’s Name...</td>\n",
       "      <td>News</td>\n",
       "      <td>December 29, 2017</td>\n",
       "      <td>1</td>\n",
       "    </tr>\n",
       "    <tr>\n",
       "      <th>4</th>\n",
       "      <td>Pope Francis Just Called Out Donald Trump Dur...</td>\n",
       "      <td>News</td>\n",
       "      <td>December 25, 2017</td>\n",
       "      <td>1</td>\n",
       "    </tr>\n",
       "  </tbody>\n",
       "</table>\n",
       "</div>"
      ],
      "text/plain": [
       "                                                text subject  \\\n",
       "0   Donald Trump Sends Out Embarrassing New Year’...    News   \n",
       "1   Drunk Bragging Trump Staffer Started Russian ...    News   \n",
       "2   Sheriff David Clarke Becomes An Internet Joke...    News   \n",
       "3   Trump Is So Obsessed He Even Has Obama’s Name...    News   \n",
       "4   Pope Francis Just Called Out Donald Trump Dur...    News   \n",
       "\n",
       "                date  label  \n",
       "0  December 31, 2017      1  \n",
       "1  December 31, 2017      1  \n",
       "2  December 30, 2017      1  \n",
       "3  December 29, 2017      1  \n",
       "4  December 25, 2017      1  "
      ]
     },
     "execution_count": 8,
     "metadata": {},
     "output_type": "execute_result"
    }
   ],
   "source": [
    "data['text'] = data['title'] + \" \" + data['text']\n",
    "data.drop('title', axis = 1, inplace = True)\n",
    "data.head()"
   ]
  },
  {
   "cell_type": "markdown",
   "metadata": {},
   "source": [
    "Removing URLs from 'date' column and converting the data type to 'datetime'"
   ]
  },
  {
   "cell_type": "code",
   "execution_count": 9,
   "metadata": {
    "execution": {
     "iopub.execute_input": "2021-09-05T11:04:13.879063Z",
     "iopub.status.busy": "2021-09-05T11:04:13.878683Z",
     "iopub.status.idle": "2021-09-05T11:04:14.435442Z",
     "shell.execute_reply": "2021-09-05T11:04:14.434849Z",
     "shell.execute_reply.started": "2021-09-05T11:04:13.879024Z"
    },
    "tags": []
   },
   "outputs": [],
   "source": [
    "pattern = 'http'\n",
    "filter = data['date'].str.contains(pattern)\n",
    "data = data[~filter]\n",
    "\n",
    "pattern = 'Jan|Feb|Mar|Apr|May|June|Jul|Aug|Sep|Oct|Nov|Dec'\n",
    "filter = data['date'].str.contains(pattern)\n",
    "data = data[filter]\n",
    "\n",
    "data['date'] = pd.to_datetime(data['date'])"
   ]
  },
  {
   "cell_type": "code",
   "execution_count": 10,
   "metadata": {
    "execution": {
     "iopub.execute_input": "2021-09-05T11:04:14.622228Z",
     "iopub.status.busy": "2021-09-05T11:04:14.621880Z",
     "iopub.status.idle": "2021-09-05T11:04:14.634989Z",
     "shell.execute_reply": "2021-09-05T11:04:14.630711Z",
     "shell.execute_reply.started": "2021-09-05T11:04:14.622188Z"
    },
    "tags": []
   },
   "outputs": [
    {
     "name": "stdout",
     "output_type": "stream",
     "text": [
      "datetime64[ns]\n"
     ]
    }
   ],
   "source": [
    "print(data['date'].dtypes)"
   ]
  },
  {
   "cell_type": "markdown",
   "metadata": {},
   "source": [
    "<br> \n",
    "Splitting the dataset into training and test sets."
   ]
  },
  {
   "cell_type": "code",
   "execution_count": 11,
   "metadata": {
    "execution": {
     "iopub.execute_input": "2021-09-05T11:04:15.689212Z",
     "iopub.status.busy": "2021-09-05T11:04:15.688836Z",
     "iopub.status.idle": "2021-09-05T11:04:15.707891Z",
     "shell.execute_reply": "2021-09-05T11:04:15.707134Z",
     "shell.execute_reply.started": "2021-09-05T11:04:15.689151Z"
    },
    "tags": []
   },
   "outputs": [],
   "source": [
    "X = data['text']\n",
    "y = data['label']\n",
    "X_train, X_test, y_train, y_test = train_test_split(X, y, test_size = 0.25, random_state = 42)"
   ]
  },
  {
   "cell_type": "code",
   "execution_count": 12,
   "metadata": {
    "execution": {
     "iopub.execute_input": "2021-09-05T11:04:16.269764Z",
     "iopub.status.busy": "2021-09-05T11:04:16.269488Z",
     "iopub.status.idle": "2021-09-05T11:04:16.285063Z",
     "shell.execute_reply": "2021-09-05T11:04:16.283977Z",
     "shell.execute_reply.started": "2021-09-05T11:04:16.269732Z"
    },
    "tags": []
   },
   "outputs": [
    {
     "name": "stdout",
     "output_type": "stream",
     "text": [
      "Shape of X_train:  (32882,)\n",
      "Shape of y_train:  (32882,)\n",
      "\n",
      "Shape of X_test:  (10961,)\n",
      "Shape of y_test:  (10961,)\n"
     ]
    }
   ],
   "source": [
    "print(\"Shape of X_train: \", X_train.shape)\n",
    "print(\"Shape of y_train: \", y_train.shape)\n",
    "print()\n",
    "print(\"Shape of X_test: \", X_test.shape)\n",
    "print(\"Shape of y_test: \", y_test.shape)"
   ]
  },
  {
   "cell_type": "code",
   "execution_count": 13,
   "metadata": {
    "execution": {
     "iopub.execute_input": "2021-09-05T11:04:17.032353Z",
     "iopub.status.busy": "2021-09-05T11:04:17.032066Z",
     "iopub.status.idle": "2021-09-05T11:04:17.044742Z",
     "shell.execute_reply": "2021-09-05T11:04:17.043723Z",
     "shell.execute_reply.started": "2021-09-05T11:04:17.032324Z"
    },
    "tags": []
   },
   "outputs": [
    {
     "name": "stdout",
     "output_type": "stream",
     "text": [
      "X; \n"
     ]
    },
    {
     "data": {
      "text/plain": [
       "0     Donald Trump Sends Out Embarrassing New Year’...\n",
       "1     Drunk Bragging Trump Staffer Started Russian ...\n",
       "2     Sheriff David Clarke Becomes An Internet Joke...\n",
       "3     Trump Is So Obsessed He Even Has Obama’s Name...\n",
       "4     Pope Francis Just Called Out Donald Trump Dur...\n",
       "Name: text, dtype: object"
      ]
     },
     "metadata": {},
     "output_type": "display_data"
    },
    {
     "name": "stdout",
     "output_type": "stream",
     "text": [
      "\n",
      "y: \n"
     ]
    },
    {
     "data": {
      "text/plain": [
       "0    1\n",
       "1    1\n",
       "2    1\n",
       "3    1\n",
       "4    1\n",
       "Name: label, dtype: int64"
      ]
     },
     "metadata": {},
     "output_type": "display_data"
    }
   ],
   "source": [
    "print(\"X; \")\n",
    "display(X.head())\n",
    "print(\"\\ny: \")\n",
    "display(y.head())"
   ]
  },
  {
   "cell_type": "markdown",
   "metadata": {},
   "source": [
    "<div id='3'></div>\n",
    "\n",
    "<br>\n",
    "\n",
    "### **3. Some Exploratory Data Analysis**"
   ]
  },
  {
   "cell_type": "markdown",
   "metadata": {},
   "source": [
    "<br> \n",
    "Plotting number of news in each subject category."
   ]
  },
  {
   "cell_type": "code",
   "execution_count": 14,
   "metadata": {
    "execution": {
     "iopub.execute_input": "2021-09-05T11:04:18.641052Z",
     "iopub.status.busy": "2021-09-05T11:04:18.640583Z",
     "iopub.status.idle": "2021-09-05T11:04:18.663515Z",
     "shell.execute_reply": "2021-09-05T11:04:18.662861Z",
     "shell.execute_reply.started": "2021-09-05T11:04:18.640993Z"
    },
    "tags": []
   },
   "outputs": [
    {
     "data": {
      "text/plain": [
       "subject\n",
       "Government News     1405\n",
       "Middle-east          778\n",
       "News                9050\n",
       "US_News              783\n",
       "left-news           4083\n",
       "politics            6327\n",
       "politicsNews       11272\n",
       "worldnews          10145\n",
       "Name: text, dtype: int64"
      ]
     },
     "metadata": {},
     "output_type": "display_data"
    }
   ],
   "source": [
    "data_sub = data.groupby('subject')['text'].count()\n",
    "display(data_sub)"
   ]
  },
  {
   "cell_type": "code",
   "execution_count": 15,
   "metadata": {
    "execution": {
     "iopub.execute_input": "2021-09-05T11:04:19.190047Z",
     "iopub.status.busy": "2021-09-05T11:04:19.189358Z",
     "iopub.status.idle": "2021-09-05T11:04:19.897496Z",
     "shell.execute_reply": "2021-09-05T11:04:19.896467Z",
     "shell.execute_reply.started": "2021-09-05T11:04:19.189983Z"
    },
    "tags": []
   },
   "outputs": [
    {
     "data": {
      "image/png": "[encoded data removed]",
      "text/plain": [
       "<Figure size 504x288 with 1 Axes>"
      ]
     },
     "metadata": {
      "needs_background": "light"
     },
     "output_type": "display_data"
    }
   ],
   "source": [
    "plt.figure(figsize = (7, 4))\n",
    "ax = sns.countplot(x = 'subject', hue = 'label', data = data)\n",
    "ax.set_xticklabels(ax.get_xticklabels(), rotation = 90)\n",
    "ax.set_ylabel('Count')\n",
    "plt.show()"
   ]
  },
  {
   "cell_type": "markdown",
   "metadata": {},
   "source": [
    "<br> \n",
    "Dynamics of fake news.\n"
   ]
  },
  {
   "cell_type": "code",
   "execution_count": 16,
   "metadata": {
    "execution": {
     "iopub.execute_input": "2021-09-05T11:04:20.933647Z",
     "iopub.status.busy": "2021-09-05T11:04:20.933307Z",
     "iopub.status.idle": "2021-09-05T11:04:21.304658Z",
     "shell.execute_reply": "2021-09-05T11:04:21.304124Z",
     "shell.execute_reply.started": "2021-09-05T11:04:20.933606Z"
    },
    "tags": []
   },
   "outputs": [],
   "source": [
    "data_sub = data.copy()\n",
    "data_sub['month'] = data_sub['date'].dt.to_period('M')\n",
    "data_sub['month'] = data_sub['month'].astype(str)"
   ]
  },
  {
   "cell_type": "code",
   "execution_count": 17,
   "metadata": {
    "execution": {
     "iopub.execute_input": "2021-09-05T11:04:21.590270Z",
     "iopub.status.busy": "2021-09-05T11:04:21.589703Z",
     "iopub.status.idle": "2021-09-05T11:04:21.627254Z",
     "shell.execute_reply": "2021-09-05T11:04:21.626456Z",
     "shell.execute_reply.started": "2021-09-05T11:04:21.590188Z"
    },
    "tags": []
   },
   "outputs": [],
   "source": [
    "data_sub = data_sub[['month', 'label']]\n",
    "data_sub = data_sub.dropna()\n",
    "data_sub = data_sub[data_sub['label'] == 1]\n",
    "data_sub = data_sub.groupby(['month'])['label'].sum()"
   ]
  },
  {
   "cell_type": "code",
   "execution_count": 18,
   "metadata": {
    "execution": {
     "iopub.execute_input": "2021-09-05T11:04:22.310159Z",
     "iopub.status.busy": "2021-09-05T11:04:22.309868Z",
     "iopub.status.idle": "2021-09-05T11:04:22.321174Z",
     "shell.execute_reply": "2021-09-05T11:04:22.320242Z",
     "shell.execute_reply.started": "2021-09-05T11:04:22.310131Z"
    },
    "tags": []
   },
   "outputs": [
    {
     "data": {
      "text/plain": [
       "month\n",
       "2015-03      8\n",
       "2015-04    326\n",
       "2015-05    338\n",
       "2015-07    291\n",
       "2015-08    220\n",
       "Name: label, dtype: int64"
      ]
     },
     "metadata": {},
     "output_type": "display_data"
    }
   ],
   "source": [
    "display(data_sub.head())"
   ]
  },
  {
   "cell_type": "code",
   "execution_count": 19,
   "metadata": {
    "execution": {
     "iopub.execute_input": "2021-09-05T11:04:23.189104Z",
     "iopub.status.busy": "2021-09-05T11:04:23.188842Z",
     "iopub.status.idle": "2021-09-05T11:04:23.576717Z",
     "shell.execute_reply": "2021-09-05T11:04:23.575832Z",
     "shell.execute_reply.started": "2021-09-05T11:04:23.189077Z"
    },
    "tags": []
   },
   "outputs": [
    {
     "data": {
      "image/png": "[encoded data removed]",
      "text/plain": [
       "<Figure size 504x288 with 1 Axes>"
      ]
     },
     "metadata": {
      "needs_background": "light"
     },
     "output_type": "display_data"
    }
   ],
   "source": [
    "plt.figure(figsize = (7, 4))\n",
    "plt.plot(data_sub.index, data_sub.values, linewidth = 2, color = 'navy')\n",
    "plt.suptitle('Dynamics of fake news')\n",
    "plt.xticks(rotation = 90)\n",
    "plt.xlabel('Month-Year')\n",
    "plt.ylabel('Number of fake news')\n",
    "plt.show()"
   ]
  },
  {
   "cell_type": "markdown",
   "metadata": {
    "tags": []
   },
   "source": [
    "<div id='4'></div>\n",
    "\n",
    "<br>\n",
    "\n",
    "### **4. Feature Extraction**\n",
    "TF-IDF is a statistical measure that evaluates how relevant a word is to a document in a collection of documents. This is achieved by multiplying two metrics: \n",
    "- Number of times a word appears in a document, and\n",
    "- The Inverse document frequency of the word across a set of documents.\n",
    "\n",
    "**1) Term Frequency (TF):** This number simply indicates how often the term is found in documents i.e. frequency. However, TF's alone carry less information regarding the document, as there are words such as 'the', 'is' and 'are' which are a lot more frequent than the words that actually matter, using TF directly will give more weight to these uninformative words. \n",
    "\n",
    "**2) Inverse Document Frequency (IDF):** This is where IDF solves the problem. IDF penalizes that occur commonly across different documents which do not add any relevant information. The equation for computing IDF is, \n",
    "$$ idf(t) = log \\frac{1 + n}{1 + df(t)} + 1. $$\n",
    "\n",
    "Here, <br>\n",
    "$n$ represents the total number of documents, <br>\n",
    "$t$ represents the term in question, <br>\n",
    "$df(t)$ represents the document frequency of that term; i.e., the number of documents within the set of documents that contain that term. <br>\n",
    "\n",
    "As one can imagine, for common terms such as \"is\", \"are\", etc., $idf(t)$ will most likely be 1, since all documents are highly likely to contain them (thus, $df(t) = n$). On the other hand, the less often a term occurs across different documents, the smaller the denominator will be, making the fraction bigger and in turn, $idf(t)$ bigger.\n",
    "\n",
    "**3) TF-IDF:** Finally, **tf-idf** is the product of term frequency and inverse-document frequency of a given term (word), which is mathematically computed as, \n",
    "$$tf-idf(t,d) = tf(t,d) * idf(t). $$\n",
    "\n",
    "#### **Why to use TF-IDF in Machine Learning ?**\n",
    "One of the biggest hurdles that machine learning classification algorithms face is that they generally deal with numbers, and we know that natural language is, well, text. Hence, we need to transform the text into numbers, which is known as **Text Vectorization**. It is a fundamental step in the process of machine learning for analyzing text data. <br>\n",
    "Calculating TF-IDF and and Text Vectorization can be achieved by using TfidfVectorizer from sklearn.feature_extraction module of scikit-learn."
   ]
  },
  {
   "cell_type": "code",
   "execution_count": 20,
   "metadata": {
    "execution": {
     "iopub.execute_input": "2021-09-05T11:04:24.973902Z",
     "iopub.status.busy": "2021-09-05T11:04:24.973245Z",
     "iopub.status.idle": "2021-09-05T11:04:40.986658Z",
     "shell.execute_reply": "2021-09-05T11:04:40.986149Z",
     "shell.execute_reply.started": "2021-09-05T11:04:24.973800Z"
    },
    "tags": []
   },
   "outputs": [],
   "source": [
    "tfidf = TfidfVectorizer()\n",
    "tfidf_train = tfidf.fit_transform(X_train)\n",
    "tfidf_test = tfidf.transform(X_test)"
   ]
  },
  {
   "cell_type": "code",
   "execution_count": 21,
   "metadata": {
    "execution": {
     "iopub.execute_input": "2021-09-05T11:04:42.791162Z",
     "iopub.status.busy": "2021-09-05T11:04:42.790119Z",
     "iopub.status.idle": "2021-09-05T11:04:42.811253Z",
     "shell.execute_reply": "2021-09-05T11:04:42.808231Z",
     "shell.execute_reply.started": "2021-09-05T11:04:42.791043Z"
    },
    "tags": []
   },
   "outputs": [
    {
     "name": "stdout",
     "output_type": "stream",
     "text": [
      "Shape of tfidf_train:  (32882, 108050)\n",
      "Shape of tfidf_test:  (10961, 108050)\n"
     ]
    }
   ],
   "source": [
    "print(\"Shape of tfidf_train: \", tfidf_train.shape)\n",
    "print(\"Shape of tfidf_test: \", tfidf_test.shape)"
   ]
  },
  {
   "cell_type": "markdown",
   "metadata": {},
   "source": [
    "<div id='5'></div>\n",
    "\n",
    "<br>\n",
    "\n",
    "### **5. Model Training**\n",
    "Machine learning involves predicting and classifying data and we employ various machine learning algorithms according to the dataset to achieve these predictions. \n",
    "To train our model which will classify a given news as 'fake' or 'real' we will train some of the very basic classifying algorithms and will compare the accuracy of the different algorithms."
   ]
  },
  {
   "cell_type": "markdown",
   "metadata": {},
   "source": [
    "<br>\n",
    "\n",
    "#### a) Logistic Regression"
   ]
  },
  {
   "cell_type": "code",
   "execution_count": 22,
   "metadata": {
    "execution": {
     "iopub.execute_input": "2021-09-05T11:04:44.718305Z",
     "iopub.status.busy": "2021-09-05T11:04:44.717644Z",
     "iopub.status.idle": "2021-09-05T11:04:44.728753Z",
     "shell.execute_reply": "2021-09-05T11:04:44.727606Z",
     "shell.execute_reply.started": "2021-09-05T11:04:44.718218Z"
    },
    "tags": []
   },
   "outputs": [],
   "source": [
    "label = ['Fake News', 'Real News']"
   ]
  },
  {
   "cell_type": "code",
   "execution_count": 23,
   "metadata": {
    "execution": {
     "iopub.execute_input": "2021-09-05T11:04:45.194973Z",
     "iopub.status.busy": "2021-09-05T11:04:45.194684Z",
     "iopub.status.idle": "2021-09-05T11:04:49.644817Z",
     "shell.execute_reply": "2021-09-05T11:04:49.644158Z",
     "shell.execute_reply.started": "2021-09-05T11:04:45.194937Z"
    },
    "tags": []
   },
   "outputs": [
    {
     "data": {
      "text/plain": [
       "LogisticRegression()"
      ]
     },
     "execution_count": 23,
     "metadata": {},
     "output_type": "execute_result"
    }
   ],
   "source": [
    "lr = LogisticRegression()\n",
    "lr.fit(tfidf_train, y_train)"
   ]
  },
  {
   "cell_type": "code",
   "execution_count": 24,
   "metadata": {
    "execution": {
     "iopub.execute_input": "2021-09-05T11:04:49.646118Z",
     "iopub.status.busy": "2021-09-05T11:04:49.645923Z",
     "iopub.status.idle": "2021-09-05T11:04:49.663214Z",
     "shell.execute_reply": "2021-09-05T11:04:49.662672Z",
     "shell.execute_reply.started": "2021-09-05T11:04:49.646096Z"
    },
    "tags": []
   },
   "outputs": [
    {
     "name": "stdout",
     "output_type": "stream",
     "text": [
      "The accuracy of Logistic Regression model is: 98.7227%\n",
      "The F1 score of Logistic Regression model is: 0.9868\n"
     ]
    }
   ],
   "source": [
    "y_pred = lr.predict(tfidf_test)\n",
    "accuracy_lr = accuracy_score(y_pred, y_test) * 100\n",
    "f1_lr = f1_score(y_test, y_pred, pos_label=0)\n",
    "print(f\"The accuracy of Logistic Regression model is: {accuracy_lr :.4f}%\")\n",
    "print(f\"The F1 score of Logistic Regression model is: {f1_lr :.4f}\")"
   ]
  },
  {
   "cell_type": "code",
   "execution_count": 25,
   "metadata": {
    "execution": {
     "iopub.execute_input": "2021-09-05T11:04:50.849634Z",
     "iopub.status.busy": "2021-09-05T11:04:50.849279Z",
     "iopub.status.idle": "2021-09-05T11:04:51.185259Z",
     "shell.execute_reply": "2021-09-05T11:04:51.184492Z",
     "shell.execute_reply.started": "2021-09-05T11:04:50.849596Z"
    },
    "tags": []
   },
   "outputs": [
    {
     "data": {
      "text/plain": [
       "Text(0.5, 1.0, 'Normalized Confusion Matrix for Logistic Regression')"
      ]
     },
     "execution_count": 25,
     "metadata": {},
     "output_type": "execute_result"
    },
    {
     "data": {
      "image/png": "[encoded data removed]",
      "text/plain": [
       "<Figure size 432x288 with 2 Axes>"
      ]
     },
     "metadata": {
      "needs_background": "light"
     },
     "output_type": "display_data"
    }
   ],
   "source": [
    "conf_mat_lr = confusion_matrix(y_pred, y_test)\n",
    "plot = plot_confusion_matrix(lr, tfidf_test, y_test, display_labels=label, cmap=plt.cm.Blues, normalize='pred')\n",
    "plot.ax_.set_title(\"Normalized Confusion Matrix for Logistic Regression\")"
   ]
  },
  {
   "cell_type": "markdown",
   "metadata": {},
   "source": [
    "<br> \n",
    "\n",
    "#### b) K-Nearest Neighbors"
   ]
  },
  {
   "cell_type": "code",
   "execution_count": 26,
   "metadata": {
    "execution": {
     "iopub.execute_input": "2021-09-05T11:04:52.738337Z",
     "iopub.status.busy": "2021-09-05T11:04:52.737356Z",
     "iopub.status.idle": "2021-09-05T11:04:52.825932Z",
     "shell.execute_reply": "2021-09-05T11:04:52.825251Z",
     "shell.execute_reply.started": "2021-09-05T11:04:52.738223Z"
    },
    "tags": []
   },
   "outputs": [
    {
     "data": {
      "text/plain": [
       "KNeighborsClassifier(n_neighbors=12)"
      ]
     },
     "execution_count": 26,
     "metadata": {},
     "output_type": "execute_result"
    }
   ],
   "source": [
    "knn = KNeighborsClassifier(n_neighbors=12)\n",
    "knn.fit(tfidf_train, y_train)"
   ]
  },
  {
   "cell_type": "code",
   "execution_count": 27,
   "metadata": {
    "execution": {
     "iopub.execute_input": "2021-09-05T11:04:54.110169Z",
     "iopub.status.busy": "2021-09-05T11:04:54.109504Z",
     "iopub.status.idle": "2021-09-05T11:06:20.752077Z",
     "shell.execute_reply": "2021-09-05T11:06:20.751120Z",
     "shell.execute_reply.started": "2021-09-05T11:04:54.110098Z"
    },
    "tags": []
   },
   "outputs": [
    {
     "name": "stdout",
     "output_type": "stream",
     "text": [
      "The accuracy of kNN model is: 87.6562%\n",
      "The F1 score of kNN Regression model is: 0.8791\n"
     ]
    }
   ],
   "source": [
    "y_pred = knn.predict(tfidf_test)\n",
    "accuracy_knn = accuracy_score(y_pred, y_test) * 100\n",
    "f1_knn = f1_score(y_test, y_pred, pos_label=0)\n",
    "print(f\"The accuracy of kNN model is: {accuracy_knn :.4f}%\")\n",
    "print(f\"The F1 score of kNN Regression model is: {f1_knn :.4f}\")"
   ]
  },
  {
   "cell_type": "code",
   "execution_count": 28,
   "metadata": {
    "execution": {
     "iopub.execute_input": "2021-09-05T11:06:20.753705Z",
     "iopub.status.busy": "2021-09-05T11:06:20.753466Z",
     "iopub.status.idle": "2021-09-05T11:07:47.392052Z",
     "shell.execute_reply": "2021-09-05T11:07:47.391351Z",
     "shell.execute_reply.started": "2021-09-05T11:06:20.753679Z"
    },
    "tags": []
   },
   "outputs": [
    {
     "data": {
      "text/plain": [
       "Text(0.5, 1.0, 'Normalized Confusion Matrix for kNN')"
      ]
     },
     "execution_count": 28,
     "metadata": {},
     "output_type": "execute_result"
    },
    {
     "data": {
      "image/png": "[encoded data removed]",
      "text/plain": [
       "<Figure size 432x288 with 2 Axes>"
      ]
     },
     "metadata": {
      "needs_background": "light"
     },
     "output_type": "display_data"
    }
   ],
   "source": [
    "conf_mat_knn = confusion_matrix(y_pred, y_test)\n",
    "plot = plot_confusion_matrix(knn, tfidf_test, y_test, display_labels=label, cmap=plt.cm.Blues, normalize='pred')\n",
    "plot.ax_.set_title(\"Normalized Confusion Matrix for kNN\")"
   ]
  },
  {
   "cell_type": "markdown",
   "metadata": {},
   "source": [
    "<br>\n",
    "\n",
    "#### c) Support Vector Classification"
   ]
  },
  {
   "cell_type": "code",
   "execution_count": 29,
   "metadata": {
    "execution": {
     "iopub.execute_input": "2021-09-05T11:07:47.393575Z",
     "iopub.status.busy": "2021-09-05T11:07:47.393303Z",
     "iopub.status.idle": "2021-09-05T11:07:49.051651Z",
     "shell.execute_reply": "2021-09-05T11:07:49.051040Z",
     "shell.execute_reply.started": "2021-09-05T11:07:47.393544Z"
    },
    "tags": []
   },
   "outputs": [
    {
     "data": {
      "text/plain": [
       "LinearSVC(max_iter=100)"
      ]
     },
     "execution_count": 29,
     "metadata": {},
     "output_type": "execute_result"
    }
   ],
   "source": [
    "svc = LinearSVC(max_iter = 100)\n",
    "svc.fit(tfidf_train, y_train)"
   ]
  },
  {
   "cell_type": "code",
   "execution_count": 30,
   "metadata": {
    "execution": {
     "iopub.execute_input": "2021-09-05T11:07:50.905448Z",
     "iopub.status.busy": "2021-09-05T11:07:50.904469Z",
     "iopub.status.idle": "2021-09-05T11:07:50.970098Z",
     "shell.execute_reply": "2021-09-05T11:07:50.968658Z",
     "shell.execute_reply.started": "2021-09-05T11:07:50.905328Z"
    },
    "tags": []
   },
   "outputs": [
    {
     "name": "stdout",
     "output_type": "stream",
     "text": [
      "The accuracy of SVC model is: 99.4982%\n",
      "The F1 score of SVC model is: 0.9948\n"
     ]
    }
   ],
   "source": [
    "y_pred = svc.predict(tfidf_test)\n",
    "accuracy_svc = accuracy_score(y_pred, y_test) * 100\n",
    "f1_svc = f1_score(y_test, y_pred, pos_label=0)\n",
    "print(f\"The accuracy of SVC model is: {accuracy_svc :.4f}%\")\n",
    "print(f\"The F1 score of SVC model is: {f1_svc :.4f}\")"
   ]
  },
  {
   "cell_type": "code",
   "execution_count": 31,
   "metadata": {
    "execution": {
     "iopub.execute_input": "2021-09-05T11:07:52.346368Z",
     "iopub.status.busy": "2021-09-05T11:07:52.345455Z",
     "iopub.status.idle": "2021-09-05T11:07:52.688527Z",
     "shell.execute_reply": "2021-09-05T11:07:52.681083Z",
     "shell.execute_reply.started": "2021-09-05T11:07:52.346254Z"
    },
    "tags": []
   },
   "outputs": [
    {
     "data": {
      "text/plain": [
       "Text(0.5, 1.0, 'Normalized Confusion Matrix for Support Vector Classifier')"
      ]
     },
     "execution_count": 31,
     "metadata": {},
     "output_type": "execute_result"
    },
    {
     "data": {
      "image/png": "[encoded data removed]",
      "text/plain": [
       "<Figure size 432x288 with 2 Axes>"
      ]
     },
     "metadata": {
      "needs_background": "light"
     },
     "output_type": "display_data"
    }
   ],
   "source": [
    "conf_mat_svc = confusion_matrix(y_pred, y_test)\n",
    "plot = plot_confusion_matrix(svc, tfidf_test, y_test, display_labels=label, cmap=plt.cm.Blues, normalize='pred')\n",
    "plot.ax_.set_title(\"Normalized Confusion Matrix for Support Vector Classifier\")"
   ]
  },
  {
   "cell_type": "markdown",
   "metadata": {},
   "source": [
    "<div id='6'></div>\n",
    "\n",
    "<br>\n",
    "\n",
    "### **6. Conclusion and Saving the Pipeline**\n",
    "\n",
    "<br> \n",
    "\n",
    "Plotting Accuracy and F1 Scores."
   ]
  },
  {
   "cell_type": "code",
   "execution_count": 32,
   "metadata": {
    "execution": {
     "iopub.execute_input": "2021-09-05T11:07:54.905348Z",
     "iopub.status.busy": "2021-09-05T11:07:54.905138Z",
     "iopub.status.idle": "2021-09-05T11:07:54.911555Z",
     "shell.execute_reply": "2021-09-05T11:07:54.910887Z",
     "shell.execute_reply.started": "2021-09-05T11:07:54.905327Z"
    },
    "tags": []
   },
   "outputs": [],
   "source": [
    "model_names = ['Logistic Regression', 'kNN', 'Support Vector Classifier']"
   ]
  },
  {
   "cell_type": "code",
   "execution_count": 33,
   "metadata": {
    "execution": {
     "iopub.execute_input": "2021-09-05T11:07:55.709551Z",
     "iopub.status.busy": "2021-09-05T11:07:55.709299Z",
     "iopub.status.idle": "2021-09-05T11:07:56.121190Z",
     "shell.execute_reply": "2021-09-05T11:07:56.120473Z",
     "shell.execute_reply.started": "2021-09-05T11:07:55.709524Z"
    },
    "tags": []
   },
   "outputs": [
    {
     "data": {
      "image/png": "[encoded data removed]",
      "text/plain": [
       "<Figure size 504x288 with 1 Axes>"
      ]
     },
     "metadata": {
      "needs_background": "light"
     },
     "output_type": "display_data"
    }
   ],
   "source": [
    "accuracy = [accuracy_lr, accuracy_knn, accuracy_svc]\n",
    "plt.figure(figsize = (7, 4))\n",
    "plot = sns.barplot(x = model_names, y = accuracy, color = 'navy')\n",
    "plt.ylim(80, 102)\n",
    "plt.xlabel(\"Models\")\n",
    "plt.ylabel(\"Accuracy\")\n",
    "plt.title('Accuracy of Models')\n",
    "\n",
    "for bar in plot.patches:\n",
    "    plot.annotate(format(bar.get_height(), '.2f'), \n",
    "                   (bar.get_x() + bar.get_width() / 2, \n",
    "                    bar.get_height()), ha='center', va='center',\n",
    "                   size=15, xytext=(0, 8),\n",
    "                   textcoords='offset points')"
   ]
  },
  {
   "cell_type": "code",
   "execution_count": 34,
   "metadata": {
    "execution": {
     "iopub.execute_input": "2021-09-05T11:07:56.767895Z",
     "iopub.status.busy": "2021-09-05T11:07:56.766405Z",
     "iopub.status.idle": "2021-09-05T11:07:57.106463Z",
     "shell.execute_reply": "2021-09-05T11:07:57.105783Z",
     "shell.execute_reply.started": "2021-09-05T11:07:56.767616Z"
    },
    "tags": []
   },
   "outputs": [
    {
     "data": {
      "image/png": "[encoded data removed]",
      "text/plain": [
       "<Figure size 504x288 with 1 Axes>"
      ]
     },
     "metadata": {
      "needs_background": "light"
     },
     "output_type": "display_data"
    }
   ],
   "source": [
    "f1 = [f1_lr, f1_knn, f1_svc]\n",
    "plt.figure(figsize = (7, 4))\n",
    "plot = sns.barplot(x = model_names, y = f1, color = 'navy')\n",
    "plt.ylim(0.8, 1.02)\n",
    "plt.xlabel(\"Models\")\n",
    "plt.ylabel(\"F1 Score\")\n",
    "plt.title('F1 Scores of Models')\n",
    "\n",
    "for bar in plot.patches:\n",
    "    plot.annotate(format(bar.get_height(), '.4f'), \n",
    "                   (bar.get_x() + bar.get_width() / 2, \n",
    "                    bar.get_height()), ha='center', va='center',\n",
    "                   size=15, xytext=(0, 8),\n",
    "                   textcoords='offset points')"
   ]
  },
  {
   "cell_type": "markdown",
   "metadata": {},
   "source": [
    "<br>\n",
    "\n",
    "Clearly, the **Support Vector Classifier** has the highest accuracy (~99.5%) and F1 score when predicting whether a news is 'fake' or 'real'. "
   ]
  },
  {
   "cell_type": "markdown",
   "metadata": {},
   "source": [
    "#### Pipelining and Saving the model with best accuracy."
   ]
  },
  {
   "cell_type": "code",
   "execution_count": 35,
   "metadata": {
    "execution": {
     "iopub.execute_input": "2021-09-05T11:07:58.877351Z",
     "iopub.status.busy": "2021-09-05T11:07:58.876490Z",
     "iopub.status.idle": "2021-09-05T11:08:13.675662Z",
     "shell.execute_reply": "2021-09-05T11:08:13.674628Z",
     "shell.execute_reply.started": "2021-09-05T11:07:58.877255Z"
    },
    "tags": []
   },
   "outputs": [
    {
     "data": {
      "text/plain": [
       "Pipeline(steps=[('tfidf', TfidfVectorizer()), ('svc', LinearSVC(max_iter=100))])"
      ]
     },
     "execution_count": 35,
     "metadata": {},
     "output_type": "execute_result"
    }
   ],
   "source": [
    "svc_pipe = Pipeline([\n",
    "    ('tfidf', TfidfVectorizer()),\n",
    "    ('svc', LinearSVC(max_iter=100))\n",
    "])\n",
    "svc_pipe.fit(X_train, y_train)"
   ]
  },
  {
   "cell_type": "code",
   "execution_count": 36,
   "metadata": {
    "execution": {
     "iopub.execute_input": "2021-06-18T14:04:40.588180Z",
     "iopub.status.busy": "2021-06-18T14:04:40.587994Z",
     "iopub.status.idle": "2021-06-18T14:04:40.817264Z",
     "shell.execute_reply": "2021-06-18T14:04:40.815669Z",
     "shell.execute_reply.started": "2021-06-18T14:04:40.588159Z"
    },
    "tags": []
   },
   "outputs": [],
   "source": [
    "model_name = 'fake_news_classifier_svc_pipe.sav'\n",
    "pickle.dump(svc_pipe, open(model_name, 'wb'))"
   ]
  },
  {
   "cell_type": "code",
   "execution_count": null,
   "metadata": {},
   "outputs": [],
   "source": []
  }
 ],
 "metadata": {
  "kernelspec": {
   "display_name": "Python 3",
   "language": "python",
   "name": "python3"
  },
  "language_info": {
   "codemirror_mode": {
    "name": "ipython",
    "version": 3
   },
   "file_extension": ".py",
   "mimetype": "text/x-python",
   "name": "python",
   "nbconvert_exporter": "python",
   "pygments_lexer": "ipython3",
   "version": "3.8.8"
  }
 },
 "nbformat": 4,
 "nbformat_minor": 4
}
